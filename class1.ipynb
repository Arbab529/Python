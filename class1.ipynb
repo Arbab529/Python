{
 "cells": [
  {
   "cell_type": "markdown",
   "metadata": {},
   "source": [
    "# chapter 1 print"
   ]
  },
  {
   "cell_type": "code",
   "execution_count": 1,
   "metadata": {},
   "outputs": [
    {
     "name": "stdout",
     "output_type": "stream",
     "text": [
      "hello world\n"
     ]
    }
   ],
   "source": [
    "print('hello world')"
   ]
  },
  {
   "cell_type": "code",
   "execution_count": 10,
   "metadata": {
    "scrolled": true
   },
   "outputs": [
    {
     "name": "stdout",
     "output_type": "stream",
     "text": [
      "hello * world * how * are * you.\n",
      "567\n"
     ]
    }
   ],
   "source": [
    "print('hello','world','how','are','you', sep=\" * \",end=\".\\n\")\n",
    "print(567)"
   ]
  },
  {
   "cell_type": "markdown",
   "metadata": {},
   "source": [
    "# Chapter 2 Variable"
   ]
  },
  {
   "cell_type": "code",
   "execution_count": 49,
   "metadata": {
    "scrolled": true
   },
   "outputs": [
    {
     "name": "stdout",
     "output_type": "stream",
     "text": [
      "Arbab Arain\n"
     ]
    }
   ],
   "source": [
    "name1='Arbab'\n",
    "name2='Arain'\n",
    "print(name1,name2)"
   ]
  },
  {
   "cell_type": "code",
   "execution_count": 40,
   "metadata": {},
   "outputs": [
    {
     "name": "stdout",
     "output_type": "stream",
     "text": [
      "A = 5 B = 8 C = 3\n"
     ]
    }
   ],
   "source": [
    "#How to swap Values?\n",
    "a=3\n",
    "b=5\n",
    "c=8\n",
    "a,b,c=b,c,a\n",
    "print('A =',a,'B =',b,'C =',c)"
   ]
  },
  {
   "cell_type": "markdown",
   "metadata": {},
   "source": [
    "# Chapter 3 Variable int"
   ]
  },
  {
   "cell_type": "code",
   "execution_count": 45,
   "metadata": {},
   "outputs": [
    {
     "data": {
      "text/plain": [
       "70"
      ]
     },
     "execution_count": 45,
     "metadata": {},
     "output_type": "execute_result"
    }
   ],
   "source": [
    "weight=60\n",
    "sum=weight+10\n",
    "sum"
   ]
  },
  {
   "cell_type": "code",
   "execution_count": 53,
   "metadata": {},
   "outputs": [
    {
     "name": "stdout",
     "output_type": "stream",
     "text": [
      "25.8\n"
     ]
    }
   ],
   "source": [
    "a=12\n",
    "b=13.8\n",
    "c=a+b\n",
    "print(c)"
   ]
  },
  {
   "cell_type": "code",
   "execution_count": 50,
   "metadata": {},
   "outputs": [
    {
     "ename": "SyntaxError",
     "evalue": "invalid syntax (<ipython-input-50-389afe712331>, line 1)",
     "output_type": "error",
     "traceback": [
      "\u001b[1;36m  File \u001b[1;32m\"<ipython-input-50-389afe712331>\"\u001b[1;36m, line \u001b[1;32m1\u001b[0m\n\u001b[1;33m    1weight=78\u001b[0m\n\u001b[1;37m          ^\u001b[0m\n\u001b[1;31mSyntaxError\u001b[0m\u001b[1;31m:\u001b[0m invalid syntax\n"
     ]
    }
   ],
   "source": [
    "#THIS WILL GIVE ERROR BCS WE NO IS BEFORE VARIABLE\n",
    "1weight=78\n",
    "print(1weight)"
   ]
  },
  {
   "cell_type": "code",
   "execution_count": 51,
   "metadata": {},
   "outputs": [
    {
     "name": "stdout",
     "output_type": "stream",
     "text": [
      "78\n"
     ]
    }
   ],
   "source": [
    "weight1=78\n",
    "print(weight1)"
   ]
  },
  {
   "cell_type": "markdown",
   "metadata": {},
   "source": [
    "# Chapter 4 Math Expressions : Familiar Operators"
   ]
  },
  {
   "cell_type": "code",
   "execution_count": 56,
   "metadata": {},
   "outputs": [
    {
     "name": "stdout",
     "output_type": "stream",
     "text": [
      "5.5\n"
     ]
    }
   ],
   "source": [
    "a = 2 + 3\n",
    "b = 0.35 + 0.15\n",
    "c = a + b\n",
    "print(c)"
   ]
  },
  {
   "cell_type": "code",
   "execution_count": 68,
   "metadata": {},
   "outputs": [
    {
     "name": "stdout",
     "output_type": "stream",
     "text": [
      "With Point =  3.75\n",
      "Without Point =  3\n",
      "Power =  27\n"
     ]
    }
   ],
   "source": [
    "#single division sign pa points ki value day ga\n",
    "a=15/4 \n",
    "print('With Point = ',a)\n",
    "\n",
    "#double divison (//) pa point k bad wali value nahi day ga\n",
    "x=15//4 \n",
    "print('Without Point = ', x)\n",
    "\n",
    "#double ** power k liya use hoti ha\n",
    "b=x**3\n",
    "print('Power = ',b)"
   ]
  },
  {
   "cell_type": "code",
   "execution_count": 75,
   "metadata": {},
   "outputs": [
    {
     "name": "stdout",
     "output_type": "stream",
     "text": [
      "By PEMDAS =  17\n"
     ]
    }
   ],
   "source": [
    "a=48//5\n",
    "c=2+a+6\n",
    "print('By PEMDAS = ',c)"
   ]
  },
  {
   "cell_type": "code",
   "execution_count": 4,
   "metadata": {
    "scrolled": true
   },
   "outputs": [
    {
     "name": "stdout",
     "output_type": "stream",
     "text": [
      "35.125\n"
     ]
    }
   ],
   "source": [
    "u=3*12+((1+1)/2**4)-1\n",
    "print(u)"
   ]
  },
  {
   "cell_type": "code",
   "execution_count": 7,
   "metadata": {},
   "outputs": [
    {
     "name": "stdout",
     "output_type": "stream",
     "text": [
      "Current date and time : \n",
      "2019-11-27 00:23:47\n"
     ]
    }
   ],
   "source": [
    "import datetime\n",
    "now = datetime.datetime.now()\n",
    "print (\"Current date and time : \")\n",
    "print (now.strftime(\"%Y-%m-%d %H:%M:%S\"))"
   ]
  },
  {
   "cell_type": "code",
   "execution_count": 9,
   "metadata": {},
   "outputs": [
    {
     "name": "stdout",
     "output_type": "stream",
     "text": [
      "The Version is =  3.7.3 (default, Mar 28 2019, 10:38:38) [MSC v.1915 32 bit (Intel)]\n",
      "version info =  sys.version_info(major=3, minor=7, micro=3, releaselevel='final', serial=0)\n"
     ]
    }
   ],
   "source": [
    "#check Which version of python we are using\n",
    "import sys\n",
    "print('The Version is = ',sys.version)\n",
    "print('version info = ',sys.version_info)"
   ]
  },
  {
   "cell_type": "markdown",
   "metadata": {},
   "source": [
    "# Chapter 6 Math Expressions : Unfamiliar Operators"
   ]
  },
  {
   "cell_type": "markdown",
   "metadata": {},
   "source": [
    "# ASSIGNMNET OPERATORS\n",
    "=,+=,-=,*=,/=,%=,**="
   ]
  },
  {
   "cell_type": "code",
   "execution_count": 18,
   "metadata": {},
   "outputs": [
    {
     "name": "stdout",
     "output_type": "stream",
     "text": [
      "Ans =  1.\n"
     ]
    }
   ],
   "source": [
    "a=19\n",
    "b=14\n",
    "c=(a+b)*3\n",
    "print('Ans = ',a%2,end=\".\\n\")"
   ]
  },
  {
   "cell_type": "code",
   "execution_count": 7,
   "metadata": {},
   "outputs": [
    {
     "name": "stdout",
     "output_type": "stream",
     "text": [
      "Add =  19\n",
      "Concatinate =  Hello World\n"
     ]
    }
   ],
   "source": [
    "c='Hello'\n",
    "d=' World'\n",
    "c+=d\n",
    "print('Concatinate = ',c)"
   ]
  },
  {
   "cell_type": "code",
   "execution_count": 6,
   "metadata": {},
   "outputs": [
    {
     "name": "stdout",
     "output_type": "stream",
     "text": [
      "ArbabArbabArbab\n"
     ]
    }
   ],
   "source": [
    "# is man a ak string ha usay agar 3 sa multiply krwnay k \n",
    "# mtlb ya ha k string ki power la lata ha or utni bar string print kar data ha\n",
    "a='Arbab'\n",
    "c=a*3\n",
    "print(c ,sep=\"  \")"
   ]
  },
  {
   "cell_type": "code",
   "execution_count": 20,
   "metadata": {},
   "outputs": [
    {
     "name": "stdout",
     "output_type": "stream",
     "text": [
      "Add =  19\n",
      "SUB =  1\n",
      "Divide =  3.3333333333333335\n",
      "Multiply =  30\n",
      "Modulus_Remainder =  1\n",
      "Power =  8\n"
     ]
    }
   ],
   "source": [
    "a=10\n",
    "b=9\n",
    "a+=b\n",
    "print('Add = ',a)\n",
    "a=10\n",
    "b=9\n",
    "a-=b\n",
    "print('SUB = ',a)\n",
    "a=10\n",
    "b=3\n",
    "a/=b\n",
    "print('Divide = ',a)\n",
    "a=10\n",
    "b=3\n",
    "a*=b\n",
    "print('Multiply = ',a)\n",
    "a=10\n",
    "b=3\n",
    "a%=b\n",
    "print('Modulus_Remainder = ',a)\n",
    "a=2\n",
    "b=3\n",
    "a**=b\n",
    "print('Power = ',a)\n",
    "\n"
   ]
  },
  {
   "cell_type": "markdown",
   "metadata": {},
   "source": [
    "# LOGICAL OPERATORS\n",
    "==,<=,>=,!=,<,>"
   ]
  },
  {
   "cell_type": "code",
   "execution_count": 27,
   "metadata": {},
   "outputs": [
    {
     "name": "stdout",
     "output_type": "stream",
     "text": [
      "False\n",
      "True\n"
     ]
    }
   ],
   "source": [
    "a='Hello'\n",
    "b='hello'\n",
    "print(a==b)\n",
    "b='Hello'\n",
    "print(a==b)\n"
   ]
  },
  {
   "cell_type": "code",
   "execution_count": 26,
   "metadata": {},
   "outputs": [
    {
     "name": "stdout",
     "output_type": "stream",
     "text": [
      "False\n",
      "True\n"
     ]
    }
   ],
   "source": [
    "a=10\n",
    "b=9\n",
    "print(a<b)\n",
    "print(a>b)"
   ]
  },
  {
   "cell_type": "code",
   "execution_count": 35,
   "metadata": {},
   "outputs": [
    {
     "name": "stdout",
     "output_type": "stream",
     "text": [
      "True\n",
      "False\n"
     ]
    }
   ],
   "source": [
    "a=10\n",
    "b=9\n",
    "print(a!=b)\n",
    "a='Ali'\n",
    "b='Ali'\n",
    "print(a!=b)"
   ]
  },
  {
   "cell_type": "code",
   "execution_count": 51,
   "metadata": {},
   "outputs": [
    {
     "data": {
      "text/plain": [
       "True"
      ]
     },
     "execution_count": 51,
     "metadata": {},
     "output_type": "execute_result"
    }
   ],
   "source": [
    "#it checks that which alphabet comes first\n",
    "# like A comes first it is smaller as B comes After A so it is greater than A\n",
    "#like example given below\n",
    "a='a'\n",
    "b='b'\n",
    "a<b"
   ]
  },
  {
   "cell_type": "code",
   "execution_count": 52,
   "metadata": {},
   "outputs": [
    {
     "name": "stdout",
     "output_type": "stream",
     "text": [
      "False\n",
      "True\n"
     ]
    }
   ],
   "source": [
    "a=10\n",
    "b=9\n",
    "print(a<=b)\n",
    "print(a>=b)"
   ]
  },
  {
   "cell_type": "markdown",
   "metadata": {},
   "source": [
    "# Chapter 7 Math Expressions : Eliminating Ambiguty"
   ]
  },
  {
   "cell_type": "code",
   "execution_count": 58,
   "metadata": {},
   "outputs": [
    {
     "name": "stdout",
     "output_type": "stream",
     "text": [
      "Priority Ans = 9\n",
      "PEMDAS Ans = 7\n"
     ]
    }
   ],
   "source": [
    "#it will give priority to Parenthisis\n",
    "a=(1+2)*3\n",
    "print('Priority Ans =',a)\n",
    "\n",
    "#it will automatically solve it by PEMDAS\n",
    "a=1+2*3\n",
    "print('PEMDAS Ans =',a)"
   ]
  },
  {
   "cell_type": "markdown",
   "metadata": {},
   "source": [
    "# Chapter 8 Concating Text Strings"
   ]
  },
  {
   "cell_type": "code",
   "execution_count": 62,
   "metadata": {},
   "outputs": [
    {
     "name": "stdout",
     "output_type": "stream",
     "text": [
      "Arbab Arain\n"
     ]
    }
   ],
   "source": [
    "a=\"Arbab \"\n",
    "b='Arain'\n",
    "c=a+b\n",
    "print(c)"
   ]
  },
  {
   "cell_type": "markdown",
   "metadata": {},
   "source": [
    "# Chapter 9 if statement"
   ]
  },
  {
   "cell_type": "code",
   "execution_count": 80,
   "metadata": {},
   "outputs": [
    {
     "name": "stdout",
     "output_type": "stream",
     "text": [
      "YES\n",
      "Its Dog\n",
      "Wall time: 0 ns\n"
     ]
    }
   ],
   "source": [
    "a='cat'\n",
    "b='dog'\n",
    "if (a=='cat'):\n",
    "    print('YES')\n",
    "    if (b!='dog'):\n",
    "        print('Its Not Dog')\n",
    "    else:\n",
    "        print('Its Dog')\n",
    "        \n",
    "%time"
   ]
  },
  {
   "cell_type": "code",
   "execution_count": 87,
   "metadata": {},
   "outputs": [
    {
     "name": "stdout",
     "output_type": "stream",
     "text": [
      "Its Own Sense\n"
     ]
    }
   ],
   "source": [
    "if (2+2==4):\n",
    "    print('Its Own Sense')"
   ]
  },
  {
   "cell_type": "code",
   "execution_count": 94,
   "metadata": {},
   "outputs": [
    {
     "name": "stdout",
     "output_type": "stream",
     "text": [
      "Enter Any Number = 5\n",
      "Your Number is =  5\n"
     ]
    }
   ],
   "source": [
    "a=int(input('Enter Any Number = '))\n",
    "if (a>=3):\n",
    "    print('Your Number is = ',a)\n",
    "else:\n",
    "    print('Bye')"
   ]
  },
  {
   "cell_type": "code",
   "execution_count": 98,
   "metadata": {},
   "outputs": [
    {
     "name": "stdout",
     "output_type": "stream",
     "text": [
      "hello  12\n",
      "World\n",
      "Boundary Over\n"
     ]
    }
   ],
   "source": [
    "a=12\n",
    "if (a==12):\n",
    "    print('hello')\n",
    "    print('World')\n",
    "print('Boundary Over')"
   ]
  },
  {
   "cell_type": "markdown",
   "metadata": {},
   "source": [
    "# Chapter 10 Comparison Operator"
   ]
  },
  {
   "cell_type": "code",
   "execution_count": 101,
   "metadata": {},
   "outputs": [
    {
     "name": "stdout",
     "output_type": "stream",
     "text": [
      "Enter String = hello world\n",
      "False\n",
      "Have A Nice Day\n"
     ]
    }
   ],
   "source": [
    "a=input('Enter String = ')\n",
    "if (a=='Hello'+' '+'World'):\n",
    "    print('True')\n",
    "else:\n",
    "    print('False')\n",
    "print('Have A Nice Day')"
   ]
  },
  {
   "cell_type": "code",
   "execution_count": null,
   "metadata": {},
   "outputs": [],
   "source": []
  }
 ],
 "metadata": {
  "kernelspec": {
   "display_name": "Python 3",
   "language": "python",
   "name": "python3"
  },
  "language_info": {
   "codemirror_mode": {
    "name": "ipython",
    "version": 3
   },
   "file_extension": ".py",
   "mimetype": "text/x-python",
   "name": "python",
   "nbconvert_exporter": "python",
   "pygments_lexer": "ipython3",
   "version": "3.7.3"
  }
 },
 "nbformat": 4,
 "nbformat_minor": 2
}
